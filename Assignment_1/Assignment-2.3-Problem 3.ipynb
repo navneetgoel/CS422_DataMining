{
 "cells": [
  {
   "cell_type": "code",
   "execution_count": 2,
   "metadata": {},
   "outputs": [
    {
     "data": {
      "text/html": [
       "<div>\n",
       "<style>\n",
       "    .dataframe thead tr:only-child th {\n",
       "        text-align: right;\n",
       "    }\n",
       "\n",
       "    .dataframe thead th {\n",
       "        text-align: left;\n",
       "    }\n",
       "\n",
       "    .dataframe tbody tr th {\n",
       "        vertical-align: top;\n",
       "    }\n",
       "</style>\n",
       "<table border=\"1\" class=\"dataframe\">\n",
       "  <thead>\n",
       "    <tr style=\"text-align: right;\">\n",
       "      <th></th>\n",
       "      <th>sepal length (cm)</th>\n",
       "      <th>sepal width (cm)</th>\n",
       "      <th>petal length (cm)</th>\n",
       "      <th>petal width (cm)</th>\n",
       "      <th>class</th>\n",
       "    </tr>\n",
       "  </thead>\n",
       "  <tbody>\n",
       "    <tr>\n",
       "      <th>0</th>\n",
       "      <td>5.1</td>\n",
       "      <td>3.5</td>\n",
       "      <td>1.4</td>\n",
       "      <td>0.2</td>\n",
       "      <td>setosa</td>\n",
       "    </tr>\n",
       "    <tr>\n",
       "      <th>1</th>\n",
       "      <td>4.9</td>\n",
       "      <td>3.0</td>\n",
       "      <td>1.4</td>\n",
       "      <td>0.2</td>\n",
       "      <td>setosa</td>\n",
       "    </tr>\n",
       "    <tr>\n",
       "      <th>2</th>\n",
       "      <td>4.7</td>\n",
       "      <td>3.2</td>\n",
       "      <td>1.3</td>\n",
       "      <td>0.2</td>\n",
       "      <td>setosa</td>\n",
       "    </tr>\n",
       "    <tr>\n",
       "      <th>3</th>\n",
       "      <td>4.6</td>\n",
       "      <td>3.1</td>\n",
       "      <td>1.5</td>\n",
       "      <td>0.2</td>\n",
       "      <td>setosa</td>\n",
       "    </tr>\n",
       "    <tr>\n",
       "      <th>4</th>\n",
       "      <td>5.0</td>\n",
       "      <td>3.6</td>\n",
       "      <td>1.4</td>\n",
       "      <td>0.2</td>\n",
       "      <td>setosa</td>\n",
       "    </tr>\n",
       "  </tbody>\n",
       "</table>\n",
       "</div>"
      ],
      "text/plain": [
       "   sepal length (cm)  sepal width (cm)  petal length (cm)  petal width (cm)  \\\n",
       "0                5.1               3.5                1.4               0.2   \n",
       "1                4.9               3.0                1.4               0.2   \n",
       "2                4.7               3.2                1.3               0.2   \n",
       "3                4.6               3.1                1.5               0.2   \n",
       "4                5.0               3.6                1.4               0.2   \n",
       "\n",
       "    class  \n",
       "0  setosa  \n",
       "1  setosa  \n",
       "2  setosa  \n",
       "3  setosa  \n",
       "4  setosa  "
      ]
     },
     "execution_count": 2,
     "metadata": {},
     "output_type": "execute_result"
    }
   ],
   "source": [
    "import pandas as pd\n",
    "from sklearn import datasets\n",
    "import matplotlib.pyplot as plt\n",
    "%matplotlib inline\n",
    "dataset=datasets.load_iris()\n",
    "#print(dataset)\n",
    "df=pd.DataFrame(dataset.data, columns=dataset.feature_names)\n",
    "df['class'] = dataset.target_names[dataset.target]\n",
    "df.head()"
   ]
  },
  {
   "cell_type": "code",
   "execution_count": 23,
   "metadata": {},
   "outputs": [
    {
     "data": {
      "text/plain": [
       "array([[-2.59259199],\n",
       "       [-2.5439918 ],\n",
       "       [-2.6551669 ],\n",
       "       [-2.46197681],\n",
       "       [-2.60231203],\n",
       "       [-2.27906069],\n",
       "       [-2.54426876],\n",
       "       [-2.49113693],\n",
       "       [-2.53427176],\n",
       "       [-2.50058   ],\n",
       "       [-2.52029704],\n",
       "       [-2.3994019 ],\n",
       "       [-2.58259499],\n",
       "       [-2.85780006],\n",
       "       [-2.82466223],\n",
       "       [-2.51113093],\n",
       "       [-2.64600078],\n",
       "       [-2.5539888 ],\n",
       "       [-2.30794384],\n",
       "       [-2.49141389],\n",
       "       [-2.30766688],\n",
       "       [-2.44309066],\n",
       "       [-2.96925212],\n",
       "       [-2.18213727],\n",
       "       [-2.12419683],\n",
       "       [-2.36052175],\n",
       "       [-2.32219552],\n",
       "       [-2.50085697],\n",
       "       [-2.58287195],\n",
       "       [-2.37996183],\n",
       "       [-2.37024179],\n",
       "       [-2.41393054],\n",
       "       [-2.59778039],\n",
       "       [-2.66063226],\n",
       "       [-2.50058   ],\n",
       "       [-2.74690192],\n",
       "       [-2.68432701],\n",
       "       [-2.50058   ],\n",
       "       [-2.63572682],\n",
       "       [-2.49113693],\n",
       "       [-2.64572382],\n",
       "       [-2.52908336],\n",
       "       [-2.6551669 ],\n",
       "       [-2.25470918],\n",
       "       [-2.08587061],\n",
       "       [-2.5053886 ],\n",
       "       [-2.43828206],\n",
       "       [-2.56343187],\n",
       "       [-2.52029704],\n",
       "       [-2.57315191],\n",
       "       [ 0.92706219],\n",
       "       [ 0.78219533],\n",
       "       [ 1.15885546],\n",
       "       [ 0.33379418],\n",
       "       [ 0.91281051],\n",
       "       [ 0.7438691 ],\n",
       "       [ 0.99454853],\n",
       "       [-0.43388059],\n",
       "       [ 0.82588409],\n",
       "       [ 0.24178219],\n",
       "       [-0.21153039],\n",
       "       [ 0.52643034],\n",
       "       [ 0.22770464],\n",
       "       [ 0.9562223 ],\n",
       "       [-0.09146614],\n",
       "       [ 0.66157716],\n",
       "       [ 0.80163541],\n",
       "       [ 0.27083948],\n",
       "       [ 0.87939572],\n",
       "       [ 0.1454127 ],\n",
       "       [ 1.17320998],\n",
       "       [ 0.28519399],\n",
       "       [ 1.21717569],\n",
       "       [ 0.88873596],\n",
       "       [ 0.55067902],\n",
       "       [ 0.67129719],\n",
       "       [ 1.05767736],\n",
       "       [ 1.33751691],\n",
       "       [ 0.81135545],\n",
       "       [-0.26985063],\n",
       "       [ 0.06339771],\n",
       "       [-0.0669405 ],\n",
       "       [ 0.16457581],\n",
       "       [ 1.41980885],\n",
       "       [ 0.80163541],\n",
       "       [ 0.80135845],\n",
       "       [ 0.97538542],\n",
       "       [ 0.70073427],\n",
       "       [ 0.35748893],\n",
       "       [ 0.3143541 ],\n",
       "       [ 0.63297097],\n",
       "       [ 0.85476724],\n",
       "       [ 0.26603087],\n",
       "       [-0.42416056],\n",
       "       [ 0.47838407],\n",
       "       [ 0.41062077],\n",
       "       [ 0.458944  ],\n",
       "       [ 0.55067902],\n",
       "       [-0.68020251],\n",
       "       [ 0.37692901],\n",
       "       [ 2.53453255],\n",
       "       [ 1.53561843],\n",
       "       [ 2.31754488],\n",
       "       [ 1.93625028],\n",
       "       [ 2.26441305],\n",
       "       [ 2.95969004],\n",
       "       [ 0.92744198],\n",
       "       [ 2.57839544],\n",
       "       [ 2.15860048],\n",
       "       [ 2.59710746],\n",
       "       [ 1.52562143],\n",
       "       [ 1.71908847],\n",
       "       [ 1.95060479],\n",
       "       [ 1.50192667],\n",
       "       [ 1.71891435],\n",
       "       [ 1.82490105],\n",
       "       [ 1.83479521],\n",
       "       [ 3.01226795],\n",
       "       [ 3.35098165],\n",
       "       [ 1.33807083],\n",
       "       [ 2.19184114],\n",
       "       [ 1.38103153],\n",
       "       [ 3.03226195],\n",
       "       [ 1.31354519],\n",
       "       [ 2.10491472],\n",
       "       [ 2.27403025],\n",
       "       [ 1.21209013],\n",
       "       [ 1.28438508],\n",
       "       [ 2.06177989],\n",
       "       [ 2.0327939 ],\n",
       "       [ 2.44324862],\n",
       "       [ 2.6598565 ],\n",
       "       [ 2.10038308],\n",
       "       [ 1.37148563],\n",
       "       [ 1.81099763],\n",
       "       [ 2.57822131],\n",
       "       [ 2.11926923],\n",
       "       [ 1.82507518],\n",
       "       [ 1.19265005],\n",
       "       [ 1.84914973],\n",
       "       [ 2.14842935],\n",
       "       [ 1.65115104],\n",
       "       [ 1.53561843],\n",
       "       [ 2.37531119],\n",
       "       [ 2.25932748],\n",
       "       [ 1.7526061 ],\n",
       "       [ 1.46332348],\n",
       "       [ 1.63679653],\n",
       "       [ 1.89719599],\n",
       "       [ 1.46785512]])"
      ]
     },
     "execution_count": 23,
     "metadata": {},
     "output_type": "execute_result"
    }
   ],
   "source": [
    "from sklearn import decomposition\n",
    "pca = decomposition.PCA(n_components=1)\n",
    "pca.fit(df.iloc[:,1:4])\n",
    "pca.transform(df.iloc[:,1:4])"
   ]
  },
  {
   "cell_type": "code",
   "execution_count": 17,
   "metadata": {},
   "outputs": [
    {
     "name": "stdout",
     "output_type": "stream",
     "text": [
      "[ 0.95087157  0.04035684]\n"
     ]
    }
   ],
   "source": [
    "print(pca.explained_variance_ratio_)"
   ]
  },
  {
   "cell_type": "code",
   "execution_count": 18,
   "metadata": {},
   "outputs": [
    {
     "name": "stdout",
     "output_type": "stream",
     "text": [
      "[[-0.09720038  0.91735023  0.38603191]\n",
      " [ 0.98648534  0.03739575  0.15952504]]\n"
     ]
    }
   ],
   "source": [
    "print(pca.components_)"
   ]
  },
  {
   "cell_type": "code",
   "execution_count": 7,
   "metadata": {},
   "outputs": [
    {
     "data": {
      "text/plain": [
       "<matplotlib.collections.PathCollection at 0x2f764ec80f0>"
      ]
     },
     "execution_count": 7,
     "metadata": {},
     "output_type": "execute_result"
    },
    {
     "data": {
      "image/png": "[encoded data removed]",
      "text/plain": [
       "<matplotlib.figure.Figure at 0x2f76507f518>"
      ]
     },
     "metadata": {},
     "output_type": "display_data"
    }
   ],
   "source": [
    "X = pca.transform(df.iloc[:,1:4])\n",
    "plt.scatter(X[:,0], X[:,1],c=dataset.target)"
   ]
  }
 ],
 "metadata": {
  "kernelspec": {
   "display_name": "Python 3",
   "language": "python",
   "name": "python3"
  },
  "language_info": {
   "codemirror_mode": {
    "name": "ipython",
    "version": 3
   },
   "file_extension": ".py",
   "mimetype": "text/x-python",
   "name": "python",
   "nbconvert_exporter": "python",
   "pygments_lexer": "ipython3",
   "version": "3.6.1"
  }
 },
 "nbformat": 4,
 "nbformat_minor": 2
}
